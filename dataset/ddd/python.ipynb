{
 "cells": [
  {
   "cell_type": "code",
   "execution_count": 1,
   "metadata": {},
   "outputs": [
    {
     "name": "stdout",
     "output_type": "stream",
     "text": [
      "Переименован: 8.png -> 8_rus.png\n",
      "Переименован: 9.png -> 9_rus.png\n",
      "Переименован: 14.png -> 14_rus.png\n",
      "Переименован: 15.png -> 15_rus.png\n",
      "Переименован: 17.png -> 17_rus.png\n",
      "Переименован: 16.png -> 16_rus.png\n",
      "Переименован: 12.png -> 12_rus.png\n",
      "Переименован: 13.png -> 13_rus.png\n",
      "Переименован: 11.png -> 11_rus.png\n",
      "Переименован: 10.png -> 10_rus.png\n",
      "Переименован: 20.png -> 20_rus.png\n",
      "Переименован: 18.png -> 18_rus.png\n",
      "Переименован: 19.png -> 19_rus.png\n",
      "Переименован: 4.png -> 4_rus.png\n",
      "Переименован: 5.png -> 5_rus.png\n",
      "Переименован: 7.png -> 7_rus.png\n",
      "Переименован: 6.png -> 6_rus.png\n",
      "Переименован: 2.png -> 2_rus.png\n",
      "Переименован: 3.png -> 3_rus.png\n",
      "Переименован: 1.png -> 1_rus.png\n"
     ]
    }
   ],
   "source": [
    "import os\n",
    "\n",
    "def rename_png_files(directory='.'):\n",
    "    # Проходим по всем файлам в указанной директории (по умолчанию текущая директория)\n",
    "    for filename in os.listdir(directory):\n",
    "        # Проверяем, что файл имеет расширение .png (регистр не важен)\n",
    "        if filename.lower().endswith('.png'):\n",
    "            # Разделяем имя файла и расширение\n",
    "            base, ext = os.path.splitext(filename)\n",
    "            # Формируем новое имя файла с добавлением _rus\n",
    "            new_filename = f\"{base}_rus{ext}\"\n",
    "            # Получаем полный путь для старого и нового имени файла\n",
    "            old_path = os.path.join(directory, filename)\n",
    "            new_path = os.path.join(directory, new_filename)\n",
    "            # Переименовываем файл\n",
    "            os.rename(old_path, new_path)\n",
    "            print(f\"Переименован: {filename} -> {new_filename}\")\n",
    "\n",
    "if __name__ == '__main__':\n",
    "    # Запускаем функцию для текущей директории\n",
    "    rename_png_files()"
   ]
  },
  {
   "cell_type": "code",
   "execution_count": 2,
   "metadata": {},
   "outputs": [
    {
     "name": "stdout",
     "output_type": "stream",
     "text": [
      "Переименован: 15.txt -> 15_rus.txt\n",
      "Переименован: 14.txt -> 14_rus.txt\n",
      "Переименован: 16.txt -> 16_rus.txt\n",
      "Переименован: 17.txt -> 17_rus.txt\n",
      "Переименован: 13.txt -> 13_rus.txt\n",
      "Переименован: 12.txt -> 12_rus.txt\n",
      "Переименован: 10.txt -> 10_rus.txt\n",
      "Переименован: 11.txt -> 11_rus.txt\n",
      "Переименован: 9.txt -> 9_rus.txt\n",
      "Переименован: 8.txt -> 8_rus.txt\n",
      "Переименован: 5.txt -> 5_rus.txt\n",
      "Переименован: 4.txt -> 4_rus.txt\n",
      "Переименован: 6.txt -> 6_rus.txt\n",
      "Переименован: 7.txt -> 7_rus.txt\n",
      "Переименован: 3.txt -> 3_rus.txt\n",
      "Переименован: 2.txt -> 2_rus.txt\n",
      "Переименован: 1.txt -> 1_rus.txt\n",
      "Переименован: 20.txt -> 20_rus.txt\n",
      "Переименован: 19.txt -> 19_rus.txt\n",
      "Переименован: 18.txt -> 18_rus.txt\n"
     ]
    }
   ],
   "source": [
    "import os\n",
    "\n",
    "def rename_txt_files(directory='.'):\n",
    "    # Проходим по всем файлам в указанной директории (по умолчанию текущая директория)\n",
    "    for filename in os.listdir(directory):\n",
    "        # Проверяем, что файл имеет расширение .txt (регистр не важен)\n",
    "        if filename.lower().endswith('.txt'):\n",
    "            # Разделяем имя файла и расширение\n",
    "            base, ext = os.path.splitext(filename)\n",
    "            # Формируем новое имя файла с добавлением _rus\n",
    "            new_filename = f\"{base}_rus{ext}\"\n",
    "            # Получаем полный путь для старого и нового имени файла\n",
    "            old_path = os.path.join(directory, filename)\n",
    "            new_path = os.path.join(directory, new_filename)\n",
    "            # Переименовываем файл\n",
    "            os.rename(old_path, new_path)\n",
    "            print(f\"Переименован: {filename} -> {new_filename}\")\n",
    "\n",
    "if __name__ == '__main__':\n",
    "    # Запускаем функцию для текущей директории\n",
    "    rename_txt_files()"
   ]
  }
 ],
 "metadata": {
  "kernelspec": {
   "display_name": ".venv",
   "language": "python",
   "name": "python3"
  },
  "language_info": {
   "codemirror_mode": {
    "name": "ipython",
    "version": 3
   },
   "file_extension": ".py",
   "mimetype": "text/x-python",
   "name": "python",
   "nbconvert_exporter": "python",
   "pygments_lexer": "ipython3",
   "version": "3.10.14"
  }
 },
 "nbformat": 4,
 "nbformat_minor": 2
}
